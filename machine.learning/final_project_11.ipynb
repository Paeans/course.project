{
 "cells": [
  {
   "cell_type": "code",
   "execution_count": 19,
   "metadata": {},
   "outputs": [
    {
     "name": "stdout",
     "output_type": "stream",
     "text": [
      "1 Physical GPUs, 1 Logical GPUs\n"
     ]
    }
   ],
   "source": [
    "import numpy as np\n",
    "import pandas as pd\n",
    "import matplotlib.pyplot as plt\n",
    "\n",
    "import tensorflow as tf\n",
    "from tensorflow import keras\n",
    "\n",
    "from tensorflow.keras import layers, regularizers\n",
    "\n",
    "gpus = tf.config.experimental.list_physical_devices('GPU')\n",
    "if gpus:\n",
    "  try:\n",
    "    # Currently, memory growth needs to be the same across GPUs\n",
    "    for gpu in gpus:\n",
    "      tf.config.experimental.set_memory_growth(gpu, True)\n",
    "    logical_gpus = tf.config.experimental.list_logical_devices('GPU')\n",
    "    print(len(gpus), \"Physical GPUs,\", len(logical_gpus), \"Logical GPUs\")\n",
    "  except RuntimeError as e:\n",
    "    # Memory growth must be set before GPUs have been initialized\n",
    "    print(e)"
   ]
  },
  {
   "cell_type": "code",
   "execution_count": 20,
   "metadata": {},
   "outputs": [],
   "source": [
    "from sklearn.model_selection import train_test_split, KFold, cross_validate, cross_val_score\n",
    "from sklearn.pipeline import Pipeline\n",
    "from sklearn.compose import ColumnTransformer\n",
    "from sklearn.preprocessing import LabelEncoder, OneHotEncoder\n",
    "from sklearn.impute import SimpleImputer\n",
    "from sklearn.ensemble import RandomForestClassifier\n",
    "from xgboost import XGBClassifier\n",
    "from sklearn.linear_model import LogisticRegression\n",
    "from sklearn.tree import DecisionTreeClassifier\n",
    "from sklearn.metrics import accuracy_score, f1_score, precision_score, recall_score\n",
    "from sklearn.metrics import roc_curve, auc"
   ]
  },
  {
   "cell_type": "code",
   "execution_count": 21,
   "metadata": {},
   "outputs": [],
   "source": [
    "data = pd.read_csv('hotel_bookings.csv')\n",
    "data_cln = data.fillna({'children': 0.0, 'country': 'Unknown', 'agent':0, 'company': 0})\n",
    "data_cln['meal'].replace('Undefined', 'SC', inplace = True)\n",
    "\n",
    "num_features = [\"lead_time\",\"arrival_date_week_number\",\"arrival_date_day_of_month\",\n",
    "                \"stays_in_weekend_nights\",\"stays_in_week_nights\",\"adults\",\"children\",\n",
    "                \"babies\",\"is_repeated_guest\", \"previous_cancellations\",\n",
    "                \"previous_bookings_not_canceled\",\"agent\",\"company\",\n",
    "                \"required_car_parking_spaces\", \"total_of_special_requests\", \"adr\"]\n",
    "\n",
    "cat_features = [\"arrival_date_month\",\"meal\",\"market_segment\",\n",
    "                \"distribution_channel\",\"reserved_room_type\",\"deposit_type\",\"customer_type\"]\n",
    "\n",
    "# Separate features and predicted value\n",
    "features = num_features + cat_features\n",
    "\n",
    "# preprocess numerical feats:\n",
    "# for most num cols, except the dates, 0 is the most logical choice as fill value\n",
    "# and here no dates are missing.\n",
    "num_transformer = SimpleImputer(strategy=\"constant\")\n",
    "\n",
    "# Preprocessing for categorical features:\n",
    "cat_transformer = Pipeline(steps=[\n",
    "    (\"imputer\", SimpleImputer(strategy=\"constant\", fill_value=\"Unknown\")),\n",
    "    (\"onehot\", OneHotEncoder(handle_unknown='ignore'))])\n",
    "\n",
    "# Bundle preprocessing for numerical and categorical features:\n",
    "preprocessor = ColumnTransformer(transformers=[(\"num\", num_transformer, num_features),\n",
    "                                               (\"cat\", cat_transformer, cat_features)])\n",
    "\n"
   ]
  },
  {
   "cell_type": "code",
   "execution_count": 22,
   "metadata": {},
   "outputs": [],
   "source": [
    "resort_data = data_cln[data_cln.hotel == 'Resort Hotel']\n",
    "city_data = data_cln[data_cln.hotel == 'City Hotel']"
   ]
  },
  {
   "cell_type": "code",
   "execution_count": 23,
   "metadata": {},
   "outputs": [],
   "source": [
    "def test_model_1():\n",
    "    inputs = keras.Input(shape=(62, 1,), dtype = \"float32\")\n",
    "    x = layers.Bidirectional(layers.LSTM(256, return_sequences = True))(inputs)\n",
    "    #x = layers.Bidirectional(layers.LSTM(128, return_sequences = True))(x)\n",
    "    x = layers.Bidirectional(layers.LSTM(128, return_sequences = True))(x)\n",
    "    x = layers.Flatten()(x)\n",
    "    # outputs = layers.Reshape((100, 256, 1))(x)\n",
    "    outputs = layers.Dense(1, activation='sigmoid',\n",
    "                    kernel_regularizer=regularizers.l1_l2(l1=1e-5, l2=1e-4))(x)\n",
    "    model = keras.Model(inputs, outputs)\n",
    "    # model.summary()\n",
    "\n",
    "    model.compile(\"adam\", \"binary_crossentropy\", metrics=[\"accuracy\", \"AUC\"])\n",
    "    return model"
   ]
  },
  {
   "cell_type": "code",
   "execution_count": 24,
   "metadata": {},
   "outputs": [
    {
     "name": "stdout",
     "output_type": "stream",
     "text": [
      "Model: \"functional_13\"\n",
      "_________________________________________________________________\n",
      "Layer (type)                 Output Shape              Param #   \n",
      "=================================================================\n",
      "input_8 (InputLayer)         [(None, 62, 1)]           0         \n",
      "_________________________________________________________________\n",
      "bidirectional_13 (Bidirectio (None, 62, 512)           528384    \n",
      "_________________________________________________________________\n",
      "bidirectional_14 (Bidirectio (None, 62, 256)           656384    \n",
      "_________________________________________________________________\n",
      "flatten_1 (Flatten)          (None, 15872)             0         \n",
      "_________________________________________________________________\n",
      "dense_3 (Dense)              (None, 1)                 15873     \n",
      "=================================================================\n",
      "Total params: 1,200,641\n",
      "Trainable params: 1,200,641\n",
      "Non-trainable params: 0\n",
      "_________________________________________________________________\n"
     ]
    }
   ],
   "source": [
    "tmp = test_model_1()"
   ]
  },
  {
   "cell_type": "code",
   "execution_count": null,
   "metadata": {},
   "outputs": [
    {
     "name": "stdout",
     "output_type": "stream",
     "text": [
      "Model: \"functional_15\"\n",
      "_________________________________________________________________\n",
      "Layer (type)                 Output Shape              Param #   \n",
      "=================================================================\n",
      "input_9 (InputLayer)         [(None, 62, 1)]           0         \n",
      "_________________________________________________________________\n",
      "bidirectional_15 (Bidirectio (None, 62, 512)           528384    \n",
      "_________________________________________________________________\n",
      "bidirectional_16 (Bidirectio (None, 62, 256)           656384    \n",
      "_________________________________________________________________\n",
      "flatten_2 (Flatten)          (None, 15872)             0         \n",
      "_________________________________________________________________\n",
      "dense_4 (Dense)              (None, 1)                 15873     \n",
      "=================================================================\n",
      "Total params: 1,200,641\n",
      "Trainable params: 1,200,641\n",
      "Non-trainable params: 0\n",
      "_________________________________________________________________\n",
      "Epoch 1/30\n",
      "1679/1679 - 57s - loss: 0.4511 - accuracy: 0.7919 - auc: 0.8384\n",
      "Epoch 2/30\n",
      "1679/1679 - 56s - loss: 0.4131 - accuracy: 0.8113 - auc: 0.8639\n",
      "Epoch 3/30\n",
      "1679/1679 - 56s - loss: 0.4076 - accuracy: 0.8127 - auc: 0.8682\n",
      "Epoch 4/30\n",
      "1679/1679 - 55s - loss: 0.4025 - accuracy: 0.8135 - auc: 0.8725\n",
      "Epoch 5/30\n",
      "1679/1679 - 58s - loss: 0.3958 - accuracy: 0.8170 - auc: 0.8776\n",
      "Epoch 6/30\n",
      "1679/1679 - 57s - loss: 0.3886 - accuracy: 0.8201 - auc: 0.8832\n",
      "Epoch 7/30\n",
      "1679/1679 - 96s - loss: 0.3842 - accuracy: 0.8224 - auc: 0.8868\n",
      "Epoch 8/30\n",
      "1679/1679 - 99s - loss: 0.3776 - accuracy: 0.8260 - auc: 0.8917\n",
      "Epoch 9/30\n",
      "1679/1679 - 151s - loss: 0.3710 - accuracy: 0.8302 - auc: 0.8963\n",
      "Epoch 10/30\n",
      "1679/1679 - 155s - loss: 0.3638 - accuracy: 0.8335 - auc: 0.9011\n",
      "Epoch 11/30\n",
      "1679/1679 - 156s - loss: 0.3580 - accuracy: 0.8355 - auc: 0.9050\n",
      "Epoch 12/30\n",
      "1679/1679 - 155s - loss: 0.3522 - accuracy: 0.8386 - auc: 0.9086\n",
      "Epoch 13/30\n",
      "1679/1679 - 141s - loss: 0.3464 - accuracy: 0.8407 - auc: 0.9123\n",
      "Epoch 14/30\n",
      "1679/1679 - 99s - loss: 0.3410 - accuracy: 0.8438 - auc: 0.9154\n",
      "Epoch 15/30\n",
      "1679/1679 - 99s - loss: 0.3351 - accuracy: 0.8466 - auc: 0.9190\n",
      "Epoch 16/30\n",
      "1679/1679 - 96s - loss: 0.3292 - accuracy: 0.8498 - auc: 0.9222\n",
      "Epoch 17/30\n",
      "1679/1679 - 93s - loss: 0.3223 - accuracy: 0.8516 - auc: 0.9259\n",
      "Epoch 18/30\n",
      "1679/1679 - 99s - loss: 0.3150 - accuracy: 0.8551 - auc: 0.9300\n",
      "Epoch 19/30\n",
      "1679/1679 - 99s - loss: 0.3081 - accuracy: 0.8581 - auc: 0.9334\n",
      "Epoch 20/30\n",
      "1679/1679 - 99s - loss: 0.3019 - accuracy: 0.8633 - auc: 0.9367\n",
      "Epoch 21/30\n",
      "1679/1679 - 99s - loss: 0.2957 - accuracy: 0.8661 - auc: 0.9396\n",
      "Epoch 22/30\n",
      "1679/1679 - 99s - loss: 0.2875 - accuracy: 0.8691 - auc: 0.9435\n",
      "Epoch 23/30\n",
      "1679/1679 - 99s - loss: 0.2798 - accuracy: 0.8732 - auc: 0.9469\n",
      "Epoch 24/30\n",
      "1679/1679 - 99s - loss: 0.2734 - accuracy: 0.8778 - auc: 0.9498\n",
      "Epoch 25/30\n",
      "1679/1679 - 99s - loss: 0.2651 - accuracy: 0.8810 - auc: 0.9532\n",
      "Epoch 26/30\n",
      "1679/1679 - 99s - loss: 0.2568 - accuracy: 0.8851 - auc: 0.9565\n",
      "Epoch 27/30\n",
      "1679/1679 - 91s - loss: 0.2494 - accuracy: 0.8892 - auc: 0.9594\n",
      "Epoch 28/30\n",
      "1679/1679 - 99s - loss: 0.2409 - accuracy: 0.8933 - auc: 0.9625\n",
      "Epoch 29/30\n",
      "1679/1679 - 99s - loss: 0.2323 - accuracy: 0.8983 - auc: 0.9655\n",
      "Epoch 30/30\n",
      "1679/1679 - 79s - loss: 0.2242 - accuracy: 0.9021 - auc: 0.9682\n",
      "Model: \"functional_17\"\n",
      "_________________________________________________________________\n",
      "Layer (type)                 Output Shape              Param #   \n",
      "=================================================================\n",
      "input_10 (InputLayer)        [(None, 62, 1)]           0         \n",
      "_________________________________________________________________\n",
      "bidirectional_17 (Bidirectio (None, 62, 512)           528384    \n",
      "_________________________________________________________________\n",
      "bidirectional_18 (Bidirectio (None, 62, 256)           656384    \n",
      "_________________________________________________________________\n",
      "flatten_3 (Flatten)          (None, 15872)             0         \n",
      "_________________________________________________________________\n",
      "dense_5 (Dense)              (None, 1)                 15873     \n",
      "=================================================================\n",
      "Total params: 1,200,641\n",
      "Trainable params: 1,200,641\n",
      "Non-trainable params: 0\n",
      "_________________________________________________________________\n",
      "Epoch 1/30\n",
      "1679/1679 - 57s - loss: 0.4525 - accuracy: 0.7899 - auc: 0.8381\n",
      "Epoch 2/30\n",
      "1679/1679 - 57s - loss: 0.4129 - accuracy: 0.8108 - auc: 0.8647\n",
      "Epoch 3/30\n",
      "1679/1679 - 59s - loss: 0.4067 - accuracy: 0.8138 - auc: 0.8695\n",
      "Epoch 4/30\n",
      "1679/1679 - 102s - loss: 0.3991 - accuracy: 0.8170 - auc: 0.8754\n",
      "Epoch 5/30\n"
     ]
    }
   ],
   "source": [
    "# 10 fold\n",
    "kfolds = 10 # \n",
    "split = KFold(n_splits=kfolds, shuffle=True, random_state=42)\n",
    "\n",
    "X = data_cln.drop([\"is_canceled\"], axis=1)[features]\n",
    "y = data_cln[\"is_canceled\"].to_numpy()\n",
    "\n",
    "X = preprocessor.fit_transform(X)\n",
    "X = X.reshape((-1, 62, 1))\n",
    "result = []\n",
    "\n",
    "for train_index, test_index in split.split(y):\n",
    "    train_x = X[train_index]\n",
    "    train_y = y[train_index]\n",
    "    \n",
    "    test_x = X[test_index]\n",
    "    test_y = y[test_index]\n",
    "    \n",
    "    model = test_model_1()\n",
    "    \n",
    "    history = model.fit(train_x, train_y, batch_size=64, epochs=30, verbose = 2)\n",
    "    pred_y = model.predict(test_x)\n",
    "    result.append({'pred': pred_y, 'test': test_y})"
   ]
  },
  {
   "cell_type": "code",
   "execution_count": 26,
   "metadata": {},
   "outputs": [
    {
     "data": {
      "image/png": "[encoded data removed]",
      "text/plain": [
       "<Figure size 432x288 with 1 Axes>"
      ]
     },
     "metadata": {
      "needs_background": "light"
     },
     "output_type": "display_data"
    }
   ],
   "source": [
    "total_accuracy = []\n",
    "total_f1 = []\n",
    "total_pre = []\n",
    "total_recall = []\n",
    "total_auc = []\n",
    "for i in range(10):\n",
    "    pred = result[i]['pred']\n",
    "    test = result[i]['test']\n",
    "    fpr, tpr, _ = roc_curve(test, pred)\n",
    "    roc_auc = auc(fpr, tpr)\n",
    "    total_auc.append(roc_auc)\n",
    "    plt.plot(fpr, tpr, lw=0.8)\n",
    "    t_acc = []\n",
    "    t_f1 = []\n",
    "    t_pre = []\n",
    "    t_rec = []\n",
    "    for t in np.arange(0,1,0.05):\n",
    "        p_val = np.zeros(pred.shape)\n",
    "        p_val[pred > t] = 1\n",
    "        t_acc.append(accuracy_score(test, p_val))\n",
    "        t_f1.append(f1_score(test, p_val))\n",
    "        t_pre.append(precision_score(test, p_val))\n",
    "        t_rec.append(recall_score(test, p_val)) \n",
    "    total_accuracy.append(np.max(t_acc))\n",
    "    total_f1.append(np.max(t_f1))\n",
    "    total_pre.append(np.max(t_pre))\n",
    "    total_recall.append(np.max(t_rec)) \n",
    "    \n",
    "plt.savefig('totalEncodeDNN.png')"
   ]
  },
  {
   "cell_type": "code",
   "execution_count": 27,
   "metadata": {},
   "outputs": [],
   "source": [
    "total_res = {'auc':total_auc, 'acc': total_accuracy, 'f1': total_f1,\n",
    "            'pre': total_pre, 'recall': total_recall}"
   ]
  },
  {
   "cell_type": "code",
   "execution_count": 28,
   "metadata": {},
   "outputs": [
    {
     "name": "stdout",
     "output_type": "stream",
     "text": [
      "auc \t 0.9043790063346595 0.9128506491700357 0.908482825674995\n",
      "acc \t 0.8352458329843371 0.8448781304966915 0.8401289890275567\n",
      "f1 \t 0.7631318136769079 0.7863621462135285 0.7768689567526124\n",
      "pre \t 0.9597254004576659 0.9884827240861291 0.9683224993588662\n",
      "recall \t 1.0 1.0 1.0\n"
     ]
    }
   ],
   "source": [
    "# total\n",
    "for k, v in total_res.items():\n",
    "    print(k, '\\t', min(v), max(v), np.average(v))"
   ]
  },
  {
   "cell_type": "code",
   "execution_count": 29,
   "metadata": {},
   "outputs": [
    {
     "data": {
      "text/plain": [
       "{'auc': [0.9128506491700357,\n",
       "  0.9109637028522913,\n",
       "  0.9043790063346595,\n",
       "  0.9086767441477281,\n",
       "  0.904426561945727,\n",
       "  0.9123656788928638,\n",
       "  0.9096808176397294,\n",
       "  0.9079073054758486,\n",
       "  0.9084937878784873,\n",
       "  0.9050840024125815],\n",
       " 'acc': [0.8411089706005528,\n",
       "  0.8425328754502052,\n",
       "  0.8375073289220203,\n",
       "  0.8407739341653405,\n",
       "  0.8352458329843371,\n",
       "  0.8396850657509004,\n",
       "  0.8448781304966915,\n",
       "  0.8421978390149929,\n",
       "  0.8413602479269621,\n",
       "  0.8359996649635648],\n",
       " 'f1': [0.7852306390181972,\n",
       "  0.7836934729338383,\n",
       "  0.7719257807998157,\n",
       "  0.7763934426229507,\n",
       "  0.7631318136769079,\n",
       "  0.7826375816631601,\n",
       "  0.7863621462135285,\n",
       "  0.7738120834229198,\n",
       "  0.7780661175674152,\n",
       "  0.7674364896073904],\n",
       " 'pre': [0.976513098464318,\n",
       "  0.9666966696669667,\n",
       "  0.9597254004576659,\n",
       "  0.9653465346534653,\n",
       "  0.9646139705882353,\n",
       "  0.9612200435729847,\n",
       "  0.962569119523607,\n",
       "  0.9668310174809502,\n",
       "  0.9884827240861291,\n",
       "  0.9712264150943396],\n",
       " 'recall': [1.0, 1.0, 1.0, 1.0, 1.0, 1.0, 1.0, 1.0, 1.0, 1.0]}"
      ]
     },
     "execution_count": 29,
     "metadata": {},
     "output_type": "execute_result"
    }
   ],
   "source": [
    "total_res"
   ]
  },
  {
   "cell_type": "code",
   "execution_count": 13,
   "metadata": {},
   "outputs": [
    {
     "data": {
      "text/plain": [
       "0.8015571755023224"
      ]
     },
     "execution_count": 13,
     "metadata": {},
     "output_type": "execute_result"
    }
   ],
   "source": [
    "np.average(total_res['auc'])"
   ]
  },
  {
   "cell_type": "code",
   "execution_count": 14,
   "metadata": {},
   "outputs": [
    {
     "data": {
      "text/plain": [
       "0.7918047928107839"
      ]
     },
     "execution_count": 14,
     "metadata": {},
     "output_type": "execute_result"
    }
   ],
   "source": [
    "np.average(total_res['acc'])"
   ]
  },
  {
   "cell_type": "code",
   "execution_count": null,
   "metadata": {},
   "outputs": [],
   "source": []
  }
 ],
 "metadata": {
  "kernelspec": {
   "display_name": "Python 3",
   "language": "python",
   "name": "python3"
  },
  "language_info": {
   "codemirror_mode": {
    "name": "ipython",
    "version": 3
   },
   "file_extension": ".py",
   "mimetype": "text/x-python",
   "name": "python",
   "nbconvert_exporter": "python",
   "pygments_lexer": "ipython3",
   "version": "3.8.5"
  }
 },
 "nbformat": 4,
 "nbformat_minor": 4
}
