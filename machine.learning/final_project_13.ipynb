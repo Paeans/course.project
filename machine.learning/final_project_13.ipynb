{
 "cells": [
  {
   "cell_type": "code",
   "execution_count": 1,
   "metadata": {},
   "outputs": [
    {
     "name": "stdout",
     "output_type": "stream",
     "text": [
      "1 Physical GPUs, 1 Logical GPUs\n"
     ]
    }
   ],
   "source": [
    "import numpy as np\n",
    "import pandas as pd\n",
    "import matplotlib.pyplot as plt\n",
    "\n",
    "import tensorflow as tf\n",
    "from tensorflow import keras\n",
    "\n",
    "from tensorflow.keras import layers, regularizers\n",
    "\n",
    "gpus = tf.config.experimental.list_physical_devices('GPU')\n",
    "if gpus:\n",
    "  try:\n",
    "    # Currently, memory growth needs to be the same across GPUs\n",
    "    for gpu in gpus:\n",
    "      tf.config.experimental.set_memory_growth(gpu, True)\n",
    "    logical_gpus = tf.config.experimental.list_logical_devices('GPU')\n",
    "    print(len(gpus), \"Physical GPUs,\", len(logical_gpus), \"Logical GPUs\")\n",
    "  except RuntimeError as e:\n",
    "    # Memory growth must be set before GPUs have been initialized\n",
    "    print(e)"
   ]
  },
  {
   "cell_type": "code",
   "execution_count": 2,
   "metadata": {},
   "outputs": [],
   "source": [
    "from sklearn.model_selection import train_test_split, KFold, cross_validate, cross_val_score\n",
    "from sklearn.pipeline import Pipeline\n",
    "from sklearn.compose import ColumnTransformer\n",
    "from sklearn.preprocessing import LabelEncoder, OneHotEncoder\n",
    "from sklearn.impute import SimpleImputer\n",
    "from sklearn.ensemble import RandomForestClassifier\n",
    "from xgboost import XGBClassifier\n",
    "from sklearn.linear_model import LogisticRegression\n",
    "from sklearn.tree import DecisionTreeClassifier\n",
    "from sklearn.metrics import accuracy_score, f1_score, precision_score, recall_score\n",
    "from sklearn.metrics import roc_curve, auc"
   ]
  },
  {
   "cell_type": "code",
   "execution_count": 3,
   "metadata": {},
   "outputs": [],
   "source": [
    "data = pd.read_csv('hotel_bookings.csv')\n",
    "data_cln = data.fillna({'children': 0.0, 'country': 'Unknown', 'agent':0, 'company': 0})\n",
    "data_cln['meal'].replace('Undefined', 'SC', inplace = True)\n",
    "\n",
    "num_features = [\"lead_time\",\"arrival_date_week_number\",\"arrival_date_day_of_month\",\n",
    "                \"stays_in_weekend_nights\",\"stays_in_week_nights\",\"adults\",\"children\",\n",
    "                \"babies\",\"is_repeated_guest\", \"previous_cancellations\",\n",
    "                \"previous_bookings_not_canceled\",\"agent\",\"company\",\n",
    "                \"required_car_parking_spaces\", \"total_of_special_requests\", \"adr\"]\n",
    "\n",
    "cat_features = [\"arrival_date_month\",\"meal\",\"market_segment\",\n",
    "                \"distribution_channel\",\"reserved_room_type\",\"deposit_type\",\"customer_type\"]\n",
    "\n",
    "# Separate features and predicted value\n",
    "features = num_features + cat_features\n",
    "\n",
    "# preprocess numerical feats:\n",
    "# for most num cols, except the dates, 0 is the most logical choice as fill value\n",
    "# and here no dates are missing.\n",
    "num_transformer = SimpleImputer(strategy=\"constant\")\n",
    "\n",
    "# Preprocessing for categorical features:\n",
    "cat_transformer = Pipeline(steps=[\n",
    "    (\"imputer\", SimpleImputer(strategy=\"constant\", fill_value=\"Unknown\")),\n",
    "    (\"onehot\", OneHotEncoder(handle_unknown='ignore'))])\n",
    "\n",
    "# Bundle preprocessing for numerical and categorical features:\n",
    "preprocessor = ColumnTransformer(transformers=[(\"num\", num_transformer, num_features),\n",
    "                                               (\"cat\", cat_transformer, cat_features)])\n",
    "\n"
   ]
  },
  {
   "cell_type": "code",
   "execution_count": 4,
   "metadata": {},
   "outputs": [],
   "source": [
    "resort_data = data_cln[data_cln.hotel == 'Resort Hotel']\n",
    "city_data = data_cln[data_cln.hotel == 'City Hotel']"
   ]
  },
  {
   "cell_type": "code",
   "execution_count": 5,
   "metadata": {},
   "outputs": [],
   "source": [
    "def test_model_1():\n",
    "    inputs = keras.Input(shape=(62, 1,), dtype = \"float32\")\n",
    "    x = layers.Bidirectional(layers.LSTM(256, return_sequences = True))(inputs)\n",
    "    #x = layers.Bidirectional(layers.LSTM(128, return_sequences = True))(x)\n",
    "    x = layers.Bidirectional(layers.LSTM(128, return_sequences = True))(x)\n",
    "    x = layers.Flatten()(x)\n",
    "    # outputs = layers.Reshape((100, 256, 1))(x)\n",
    "    outputs = layers.Dense(1, activation='sigmoid',\n",
    "                    kernel_regularizer=regularizers.l1_l2(l1=1e-5, l2=1e-4))(x)\n",
    "    model = keras.Model(inputs, outputs)\n",
    "    # model.summary()\n",
    "\n",
    "    model.compile(\"adam\", \"binary_crossentropy\", metrics=[\"accuracy\", \"AUC\"])\n",
    "    return model"
   ]
  },
  {
   "cell_type": "code",
   "execution_count": 6,
   "metadata": {},
   "outputs": [],
   "source": [
    "tmp = test_model_1()"
   ]
  },
  {
   "cell_type": "code",
   "execution_count": null,
   "metadata": {},
   "outputs": [
    {
     "name": "stdout",
     "output_type": "stream",
     "text": [
      "Epoch 1/30\n",
      "564/564 - 34s - loss: 0.4782 - accuracy: 0.7747 - auc: 0.7822\n",
      "Epoch 2/30\n",
      "564/564 - 34s - loss: 0.4075 - accuracy: 0.8116 - auc: 0.8513\n",
      "Epoch 3/30\n"
     ]
    }
   ],
   "source": [
    "# 10 fold\n",
    "kfolds = 10 # \n",
    "split = KFold(n_splits=kfolds, shuffle=True, random_state=42)\n",
    "\n",
    "x = data_cln.drop([\"is_canceled\"], axis=1)[features]\n",
    "y = data_cln[\"is_canceled\"].to_numpy()\n",
    "\n",
    "x = preprocessor.fit_transform(x)\n",
    "\n",
    "train_X = x[data_cln.hotel == 'Resort Hotel']\n",
    "train_Y = y[data_cln.hotel == 'Resort Hotel']\n",
    "\n",
    "test_X = x[data_cln.hotel == 'City Hotel']\n",
    "test_Y = y[data_cln.hotel == 'City Hotel']\n",
    "\n",
    "train_X = train_X.reshape((-1, 62, 1))\n",
    "test_X = test_X.reshape((-1, 62, 1))\n",
    "result = []\n",
    "rc_result = []\n",
    "\n",
    "for train_index, test_index in split.split(train_Y):\n",
    "    train_x = train_X[train_index]\n",
    "    train_y = train_Y[train_index]\n",
    "    \n",
    "    test_x = train_X[test_index]\n",
    "    test_y = train_Y[test_index]\n",
    "    \n",
    "    model = test_model_1()\n",
    "    \n",
    "    history = model.fit(train_x, train_y, batch_size=64, epochs=30, verbose = 2)\n",
    "    pred_y = model.predict(test_x)\n",
    "    result.append({'pred': pred_y, 'test': test_y})\n",
    "    pred_y = model.predict(test_X)\n",
    "    rc_result.append({'pred': pred_y, 'test': test_Y})"
   ]
  },
  {
   "cell_type": "code",
   "execution_count": 17,
   "metadata": {},
   "outputs": [
    {
     "data": {
      "image/png": "[encoded data removed]",
      "text/plain": [
       "<Figure size 432x288 with 1 Axes>"
      ]
     },
     "metadata": {
      "needs_background": "light"
     },
     "output_type": "display_data"
    }
   ],
   "source": [
    "total_accuracy = []\n",
    "total_f1 = []\n",
    "total_pre = []\n",
    "total_recall = []\n",
    "total_auc = []\n",
    "for i in range(10):\n",
    "    pred = result[i]['pred']\n",
    "    test = result[i]['test']\n",
    "    fpr, tpr, _ = roc_curve(test, pred)\n",
    "    roc_auc = auc(fpr, tpr)\n",
    "    total_auc.append(roc_auc)\n",
    "    plt.plot(fpr, tpr, lw=0.8)\n",
    "    t_acc = []\n",
    "    t_f1 = []\n",
    "    t_pre = []\n",
    "    t_rec = []\n",
    "    for t in np.arange(0,1,0.05):\n",
    "        p_val = np.zeros(pred.shape)\n",
    "        p_val[pred > t] = 1\n",
    "        t_acc.append(accuracy_score(test, p_val))\n",
    "        t_f1.append(f1_score(test, p_val))\n",
    "        t_pre.append(precision_score(test, p_val))\n",
    "        t_rec.append(recall_score(test, p_val)) \n",
    "    total_accuracy.append(np.max(t_acc))\n",
    "    total_f1.append(np.max(t_f1))\n",
    "    total_pre.append(np.max(t_pre))\n",
    "    total_recall.append(np.max(t_rec)) \n",
    "    \n",
    "plt.savefig('resortEncodeDNN.png')"
   ]
  },
  {
   "cell_type": "code",
   "execution_count": 18,
   "metadata": {},
   "outputs": [],
   "source": [
    "total_res = {'auc':total_auc, 'acc': total_accuracy, 'f1': total_f1,\n",
    "            'pre': total_pre, 'recall': total_recall}"
   ]
  },
  {
   "cell_type": "code",
   "execution_count": 19,
   "metadata": {},
   "outputs": [
    {
     "name": "stdout",
     "output_type": "stream",
     "text": [
      "auc \t 0.8841744382105717 0.9074165084053433 0.8940691251322704\n",
      "acc \t 0.8317523714428358 0.8499750374438343 0.841962056914628\n",
      "f1 \t 0.6902887139107611 0.7251461988304093 0.7039932864245126\n",
      "pre \t 0.9691358024691358 0.9928057553956835 0.978732390778705\n",
      "recall \t 1.0 1.0 1.0\n"
     ]
    }
   ],
   "source": [
    "# total\n",
    "for k, v in total_res.items():\n",
    "    print(k, '\\t', min(v), max(v), np.average(v))"
   ]
  },
  {
   "cell_type": "code",
   "execution_count": 20,
   "metadata": {},
   "outputs": [
    {
     "data": {
      "text/plain": [
       "{'auc': [0.8992258853594388,\n",
       "  0.8926885377450466,\n",
       "  0.9010757644166855,\n",
       "  0.8914445444014791,\n",
       "  0.8964864230745166,\n",
       "  0.9074165084053433,\n",
       "  0.8841744382105717,\n",
       "  0.8948183547737076,\n",
       "  0.887092531259395,\n",
       "  0.8862682636765206],\n",
       " 'acc': [0.8472291562656016,\n",
       "  0.8412381427858213,\n",
       "  0.8474787818272591,\n",
       "  0.836245631552671,\n",
       "  0.8464802795806291,\n",
       "  0.8499750374438343,\n",
       "  0.836245631552671,\n",
       "  0.8442336495257114,\n",
       "  0.8317523714428358,\n",
       "  0.8387418871692461],\n",
       " 'f1': [0.7004149377593362,\n",
       "  0.6973406500633178,\n",
       "  0.7128630705394191,\n",
       "  0.7061668681983072,\n",
       "  0.7085318319618882,\n",
       "  0.7251461988304093,\n",
       "  0.6958424507658644,\n",
       "  0.7045951859956237,\n",
       "  0.6987429562201994,\n",
       "  0.6902887139107611],\n",
       " 'pre': [0.9754601226993865,\n",
       "  0.9717868338557993,\n",
       "  0.976027397260274,\n",
       "  0.9691358024691358,\n",
       "  0.9928057553956835,\n",
       "  0.9866220735785953,\n",
       "  0.9761904761904762,\n",
       "  0.9790209790209791,\n",
       "  0.9743589743589743,\n",
       "  0.9859154929577465],\n",
       " 'recall': [1.0, 1.0, 1.0, 1.0, 1.0, 1.0, 1.0, 1.0, 1.0, 1.0]}"
      ]
     },
     "execution_count": 20,
     "metadata": {},
     "output_type": "execute_result"
    }
   ],
   "source": [
    "total_res"
   ]
  },
  {
   "cell_type": "code",
   "execution_count": 21,
   "metadata": {},
   "outputs": [
    {
     "data": {
      "text/plain": [
       "0.8940691251322704"
      ]
     },
     "execution_count": 21,
     "metadata": {},
     "output_type": "execute_result"
    }
   ],
   "source": [
    "np.average(total_res['auc'])"
   ]
  },
  {
   "cell_type": "code",
   "execution_count": 22,
   "metadata": {},
   "outputs": [
    {
     "data": {
      "text/plain": [
       "0.841962056914628"
      ]
     },
     "execution_count": 22,
     "metadata": {},
     "output_type": "execute_result"
    }
   ],
   "source": [
    "np.average(total_res['acc'])"
   ]
  },
  {
   "cell_type": "code",
   "execution_count": null,
   "metadata": {},
   "outputs": [],
   "source": []
  },
  {
   "cell_type": "code",
   "execution_count": 23,
   "metadata": {},
   "outputs": [
    {
     "data": {
      "image/png": "[encoded data removed]",
      "text/plain": [
       "<Figure size 432x288 with 1 Axes>"
      ]
     },
     "metadata": {
      "needs_background": "light"
     },
     "output_type": "display_data"
    }
   ],
   "source": [
    "total_accuracy = []\n",
    "total_f1 = []\n",
    "total_pre = []\n",
    "total_recall = []\n",
    "total_auc = []\n",
    "for i in range(10):\n",
    "    pred = rc_result[i]['pred']\n",
    "    test = rc_result[i]['test']\n",
    "    fpr, tpr, _ = roc_curve(test, pred)\n",
    "    roc_auc = auc(fpr, tpr)\n",
    "    total_auc.append(roc_auc)\n",
    "    plt.plot(fpr, tpr, lw=0.8)\n",
    "    t_acc = []\n",
    "    t_f1 = []\n",
    "    t_pre = []\n",
    "    t_rec = []\n",
    "    for t in np.arange(0,1,0.05):\n",
    "        p_val = np.zeros(pred.shape)\n",
    "        p_val[pred > t] = 1\n",
    "        t_acc.append(accuracy_score(test, p_val))\n",
    "        t_f1.append(f1_score(test, p_val))\n",
    "        t_pre.append(precision_score(test, p_val))\n",
    "        t_rec.append(recall_score(test, p_val)) \n",
    "    total_accuracy.append(np.max(t_acc))\n",
    "    total_f1.append(np.max(t_f1))\n",
    "    total_pre.append(np.max(t_pre))\n",
    "    total_recall.append(np.max(t_rec)) \n",
    "    \n",
    "plt.savefig('rcEncodeDNN.png')"
   ]
  },
  {
   "cell_type": "code",
   "execution_count": 24,
   "metadata": {},
   "outputs": [],
   "source": [
    "rc_res = {'auc':total_auc, 'acc': total_accuracy, 'f1': total_f1,\n",
    "            'pre': total_pre, 'recall': total_recall}"
   ]
  },
  {
   "cell_type": "code",
   "execution_count": 25,
   "metadata": {},
   "outputs": [
    {
     "name": "stdout",
     "output_type": "stream",
     "text": [
      "auc \t 0.808684420523061 0.8224451908845815 0.8163521327477955\n",
      "acc \t 0.7635698978948695 0.7704021177360393 0.7659611748392788\n",
      "f1 \t 0.6768896538103434 0.695077979060776 0.686997605731025\n",
      "pre \t 0.9154416020372729 0.9826198688036789 0.9489318341430296\n",
      "recall \t 1.0 1.0 1.0\n"
     ]
    }
   ],
   "source": [
    "# total\n",
    "for k, v in rc_res.items():\n",
    "    print(k, '\\t', min(v), max(v), np.average(v))"
   ]
  },
  {
   "cell_type": "code",
   "execution_count": 26,
   "metadata": {},
   "outputs": [
    {
     "data": {
      "text/plain": [
       "{'auc': [0.8180152908062633,\n",
       "  0.8224451908845815,\n",
       "  0.8220156629546042,\n",
       "  0.8201079328473324,\n",
       "  0.8218242566115426,\n",
       "  0.809357467235176,\n",
       "  0.815168320972678,\n",
       "  0.808684420523061,\n",
       "  0.8131726085453398,\n",
       "  0.8127301760973775],\n",
       " 'acc': [0.7643640489096181,\n",
       "  0.7660153787974284,\n",
       "  0.7704021177360393,\n",
       "  0.76541031135762,\n",
       "  0.7695953611496281,\n",
       "  0.7638346148997857,\n",
       "  0.7643640489096181,\n",
       "  0.7635698978948695,\n",
       "  0.7640993319047019,\n",
       "  0.7679566368334804],\n",
       " 'f1': [0.6881652497562182,\n",
       "  0.695077979060776,\n",
       "  0.6940446162908366,\n",
       "  0.69022987685678,\n",
       "  0.693065988146207,\n",
       "  0.6815986073837673,\n",
       "  0.6907867301304267,\n",
       "  0.6768896538103434,\n",
       "  0.6800505015469567,\n",
       "  0.680066854327938],\n",
       " 'pre': [0.9558392496580473,\n",
       "  0.9154416020372729,\n",
       "  0.9403965454324291,\n",
       "  0.9522660911514536,\n",
       "  0.946179604261796,\n",
       "  0.9582366589327146,\n",
       "  0.9455093960153353,\n",
       "  0.9647220226040374,\n",
       "  0.928107302533532,\n",
       "  0.9826198688036789],\n",
       " 'recall': [1.0, 1.0, 1.0, 1.0, 1.0, 1.0, 1.0, 1.0, 1.0, 1.0]}"
      ]
     },
     "execution_count": 26,
     "metadata": {},
     "output_type": "execute_result"
    }
   ],
   "source": [
    "rc_res"
   ]
  },
  {
   "cell_type": "code",
   "execution_count": null,
   "metadata": {},
   "outputs": [],
   "source": []
  }
 ],
 "metadata": {
  "kernelspec": {
   "display_name": "Python 3",
   "language": "python",
   "name": "python3"
  },
  "language_info": {
   "codemirror_mode": {
    "name": "ipython",
    "version": 3
   },
   "file_extension": ".py",
   "mimetype": "text/x-python",
   "name": "python",
   "nbconvert_exporter": "python",
   "pygments_lexer": "ipython3",
   "version": "3.8.5"
  }
 },
 "nbformat": 4,
 "nbformat_minor": 4
}
