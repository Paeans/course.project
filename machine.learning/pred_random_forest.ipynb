{
 "cells": [
  {
   "cell_type": "code",
   "execution_count": 1,
   "metadata": {},
   "outputs": [],
   "source": [
    "import numpy as np\n",
    "import pandas as pd\n",
    "\n",
    "import matplotlib.pyplot as plt\n",
    "import seaborn as sns\n",
    "\n",
    "import tensorflow as tf\n",
    "from tensorflow import keras\n",
    "\n",
    "from tensorflow.keras import layers, regularizers"
   ]
  },
  {
   "cell_type": "code",
   "execution_count": 2,
   "metadata": {},
   "outputs": [],
   "source": [
    "data = pd.read_csv('hotel_bookings.csv')"
   ]
  },
  {
   "cell_type": "code",
   "execution_count": 3,
   "metadata": {},
   "outputs": [],
   "source": [
    "data_cln = data.fillna({'children': 0.0, 'country': 'Unknown', 'agent':0, 'company': 0})"
   ]
  },
  {
   "cell_type": "code",
   "execution_count": 4,
   "metadata": {},
   "outputs": [],
   "source": [
    "data_cln['meal'].replace('Undefined', 'SC', inplace = True)"
   ]
  },
  {
   "cell_type": "code",
   "execution_count": 5,
   "metadata": {},
   "outputs": [],
   "source": [
    "from sklearn.model_selection import train_test_split, KFold, cross_validate, cross_val_score\n",
    "from sklearn.pipeline import Pipeline\n",
    "from sklearn.compose import ColumnTransformer\n",
    "from sklearn.preprocessing import LabelEncoder, OneHotEncoder\n",
    "from sklearn.impute import SimpleImputer\n",
    "from sklearn.ensemble import RandomForestClassifier\n",
    "from xgboost import XGBClassifier\n",
    "from sklearn.linear_model import LogisticRegression\n",
    "from sklearn.tree import DecisionTreeClassifier\n",
    "from sklearn.metrics import accuracy_score, f1_score, precision_score, recall_score\n",
    "from sklearn.tree import DecisionTreeRegressor\n",
    "from sklearn.svm import SVR\n",
    "from sklearn.metrics import roc_curve, auc"
   ]
  },
  {
   "cell_type": "code",
   "execution_count": 6,
   "metadata": {},
   "outputs": [],
   "source": [
    "resort_data = data_cln[data_cln.hotel == 'Resort Hotel']"
   ]
  },
  {
   "cell_type": "code",
   "execution_count": 7,
   "metadata": {},
   "outputs": [],
   "source": [
    "city_data = data_cln[data_cln.hotel == 'City Hotel']"
   ]
  },
  {
   "cell_type": "code",
   "execution_count": 8,
   "metadata": {},
   "outputs": [],
   "source": [
    "num_features = [\"lead_time\",\"arrival_date_week_number\",\"arrival_date_day_of_month\",\n",
    "                \"stays_in_weekend_nights\",\"stays_in_week_nights\",\"adults\",\"children\",\n",
    "                \"babies\",\"is_repeated_guest\", \"previous_cancellations\",\n",
    "                \"previous_bookings_not_canceled\",\"agent\",\"company\",\n",
    "                \"required_car_parking_spaces\", \"total_of_special_requests\", \"adr\"]\n",
    "\n",
    "cat_features = [\"arrival_date_month\",\"meal\",\"market_segment\",\n",
    "                \"distribution_channel\",\"reserved_room_type\",\"deposit_type\",\"customer_type\"] # hotel\n",
    "\n",
    "# Separate features and predicted value\n",
    "features = num_features + cat_features\n",
    "\n",
    "# preprocess numerical feats:\n",
    "# for most num cols, except the dates, 0 is the most logical choice as fill value\n",
    "# and here no dates are missing.\n",
    "num_transformer = SimpleImputer(strategy=\"constant\")\n",
    "\n",
    "# Preprocessing for categorical features:\n",
    "cat_transformer = Pipeline(steps=[\n",
    "    (\"imputer\", SimpleImputer(strategy=\"constant\", fill_value=\"Unknown\")),\n",
    "    (\"onehot\", OneHotEncoder(handle_unknown='ignore'))])\n",
    "\n",
    "# Bundle preprocessing for numerical and categorical features:\n",
    "preprocessor = ColumnTransformer(transformers=[(\"num\", num_transformer, num_features),\n",
    "                                               (\"cat\", cat_transformer, cat_features)])"
   ]
  },
  {
   "cell_type": "markdown",
   "metadata": {},
   "source": [
    "total hotel"
   ]
  },
  {
   "cell_type": "code",
   "execution_count": 9,
   "metadata": {},
   "outputs": [],
   "source": [
    "# 10 fold\n",
    "kfolds = 10 # 4 = 75% train, 25% validation\n",
    "split = KFold(n_splits=kfolds, shuffle=True, random_state=42)\n",
    "\n",
    "X = data_cln.drop([\"is_canceled\"], axis=1)[features]\n",
    "y = data_cln[\"is_canceled\"].to_numpy()\n",
    "\n",
    "X = preprocessor.fit_transform(X)\n",
    "\n",
    "result = []\n",
    "\n",
    "for train_index, test_index in split.split(y):\n",
    "    train_x = X[train_index]\n",
    "    train_y = y[train_index]\n",
    "    \n",
    "    test_x = X[test_index]\n",
    "    test_y = y[test_index]\n",
    "    \n",
    "    model = RandomForestClassifier(random_state=42,n_jobs=-1)\n",
    "    model.fit(train_x, train_y)\n",
    "    pred_y = model.predict(test_x)\n",
    "    result.append({'pred': pred_y, 'test': test_y})"
   ]
  },
  {
   "cell_type": "code",
   "execution_count": 10,
   "metadata": {},
   "outputs": [],
   "source": [
    "total_accuracy = []\n",
    "total_f1 = []\n",
    "total_pre = []\n",
    "total_recall = []\n",
    "total_auc = []\n",
    "for i in range(10):\n",
    "    pred = result[i]['pred']\n",
    "    test = result[i]['test']\n",
    "    fpr, tpr, _ = roc_curve(test, pred)\n",
    "    roc_auc = auc(fpr, tpr)\n",
    "    total_auc.append(roc_auc)\n",
    "    total_accuracy.append(accuracy_score(test, pred))\n",
    "    total_f1.append(f1_score(test, pred))\n",
    "    total_pre.append(precision_score(test, pred))\n",
    "    total_recall.append(recall_score(test, pred))"
   ]
  },
  {
   "cell_type": "code",
   "execution_count": 11,
   "metadata": {},
   "outputs": [],
   "source": [
    "total_res = {'auc':total_auc, 'acc': total_accuracy, 'f1': total_f1,\n",
    "            'pre': total_pre, 'recall': total_recall}"
   ]
  },
  {
   "cell_type": "code",
   "execution_count": 12,
   "metadata": {},
   "outputs": [
    {
     "name": "stdout",
     "output_type": "stream",
     "text": [
      "auc \t 0.8400151299953617 0.8526024461888371 0.847409955475032\n",
      "acc \t 0.8638914481949912 0.8720998408576933 0.86874947650557\n",
      "f1 \t 0.8001967293741545 0.820247204237787 0.8119262429976773\n",
      "pre \t 0.8527253668763103 0.8745492014425554 0.8648415419727178\n",
      "recall \t 0.7537641880935835 0.7730197470601287 0.7651291233778752\n"
     ]
    }
   ],
   "source": [
    "# total\n",
    "for k, v in total_res.items():\n",
    "    print(k, '\\t', min(v), max(v), np.average(v))"
   ]
  },
  {
   "cell_type": "markdown",
   "metadata": {},
   "source": [
    "resort hotel"
   ]
  },
  {
   "cell_type": "code",
   "execution_count": 13,
   "metadata": {},
   "outputs": [],
   "source": [
    "# 10 fold\n",
    "kfolds = 10 # 4 = 75% train, 25% validation\n",
    "split = KFold(n_splits=kfolds, shuffle=True, random_state=42)\n",
    "\n",
    "X = resort_data.drop([\"is_canceled\"], axis=1)[features]\n",
    "y = resort_data[\"is_canceled\"].to_numpy()\n",
    "\n",
    "X = preprocessor.fit_transform(X)\n",
    "\n",
    "result = []\n",
    "\n",
    "for train_index, test_index in split.split(y):\n",
    "    train_x = X[train_index]\n",
    "    train_y = y[train_index]\n",
    "    \n",
    "    test_x = X[test_index]\n",
    "    test_y = y[test_index]\n",
    "    \n",
    "    model = RandomForestClassifier(random_state=42,n_jobs=-1)\n",
    "    model.fit(train_x, train_y)\n",
    "    pred_y = model.predict(test_x)\n",
    "    result.append({'pred': pred_y, 'test': test_y})"
   ]
  },
  {
   "cell_type": "code",
   "execution_count": 14,
   "metadata": {},
   "outputs": [],
   "source": [
    "total_accuracy = []\n",
    "total_f1 = []\n",
    "total_pre = []\n",
    "total_recall = []\n",
    "total_auc = []\n",
    "for i in range(10):\n",
    "    pred = result[i]['pred']\n",
    "    test = result[i]['test']\n",
    "    fpr, tpr, _ = roc_curve(test, pred)\n",
    "    roc_auc = auc(fpr, tpr)\n",
    "    total_auc.append(roc_auc)\n",
    "    total_accuracy.append(accuracy_score(test, pred))\n",
    "    total_f1.append(f1_score(test, pred))\n",
    "    total_pre.append(precision_score(test, pred))\n",
    "    total_recall.append(recall_score(test, pred))"
   ]
  },
  {
   "cell_type": "code",
   "execution_count": 15,
   "metadata": {},
   "outputs": [],
   "source": [
    "resort_res = {'auc':total_auc, 'acc': total_accuracy, 'f1': total_f1,\n",
    "            'pre': total_pre, 'recall': total_recall}"
   ]
  },
  {
   "cell_type": "code",
   "execution_count": 16,
   "metadata": {},
   "outputs": [
    {
     "name": "stdout",
     "output_type": "stream",
     "text": [
      "auc \t 0.7979747926655844 0.8271168944065632 0.8149115059910453\n",
      "acc \t 0.8627059410883674 0.8821767348976535 0.8704942586120821\n",
      "f1 \t 0.7222222222222222 0.7644710578842315 0.7472915704844961\n",
      "pre \t 0.8033707865168539 0.8436123348017621 0.8151508031946234\n",
      "recall \t 0.6559633027522935 0.7153024911032029 0.6899966272509184\n"
     ]
    }
   ],
   "source": [
    "# resort\n",
    "for k, v in resort_res.items():\n",
    "    print(k, '\\t', min(v), max(v), np.average(v))"
   ]
  },
  {
   "cell_type": "markdown",
   "metadata": {},
   "source": [
    "city hotel"
   ]
  },
  {
   "cell_type": "code",
   "execution_count": 17,
   "metadata": {},
   "outputs": [],
   "source": [
    "# 10 fold\n",
    "kfolds = 10 # 4 = 75% train, 25% validation\n",
    "split = KFold(n_splits=kfolds, shuffle=True, random_state=42)\n",
    "\n",
    "X = city_data.drop([\"is_canceled\"], axis=1)[features]\n",
    "y = city_data[\"is_canceled\"].to_numpy()\n",
    "\n",
    "X = preprocessor.fit_transform(X)\n",
    "\n",
    "result = []\n",
    "\n",
    "for train_index, test_index in split.split(y):\n",
    "    train_x = X[train_index]\n",
    "    train_y = y[train_index]\n",
    "    \n",
    "    test_x = X[test_index]\n",
    "    test_y = y[test_index]\n",
    "    \n",
    "    model = RandomForestClassifier(random_state=42,n_jobs=-1)\n",
    "    model.fit(train_x, train_y)\n",
    "    pred_y = model.predict(test_x)\n",
    "    result.append({'pred': pred_y, 'test': test_y})"
   ]
  },
  {
   "cell_type": "code",
   "execution_count": 18,
   "metadata": {},
   "outputs": [],
   "source": [
    "total_accuracy = []\n",
    "total_f1 = []\n",
    "total_pre = []\n",
    "total_recall = []\n",
    "total_auc = []\n",
    "for i in range(10):\n",
    "    pred = result[i]['pred']\n",
    "    test = result[i]['test']\n",
    "    fpr, tpr, _ = roc_curve(test, pred)\n",
    "    roc_auc = auc(fpr, tpr)\n",
    "    total_auc.append(roc_auc)\n",
    "    total_accuracy.append(accuracy_score(test, pred))\n",
    "    total_f1.append(f1_score(test, pred))\n",
    "    total_pre.append(precision_score(test, pred))\n",
    "    total_recall.append(recall_score(test, pred))"
   ]
  },
  {
   "cell_type": "code",
   "execution_count": 19,
   "metadata": {},
   "outputs": [],
   "source": [
    "city_res = {'auc':total_auc, 'acc': total_accuracy, 'f1': total_f1,\n",
    "            'pre': total_pre, 'recall': total_recall}"
   ]
  },
  {
   "cell_type": "code",
   "execution_count": 20,
   "metadata": {},
   "outputs": [
    {
     "name": "stdout",
     "output_type": "stream",
     "text": [
      "auc \t 0.8537982382269987 0.8637865073241819 0.859449531375135\n",
      "acc \t 0.8632295474599773 0.874448506239758 0.8697466280095801\n",
      "f1 \t 0.8315478962893961 0.841502227880331 0.8362613035052628\n",
      "pre \t 0.8725687458081824 0.8878441907320349 0.8794486315097915\n",
      "recall \t 0.7878787878787878 0.8038682381384104 0.797141205381646\n"
     ]
    }
   ],
   "source": [
    "# city\n",
    "for k, v in city_res.items():\n",
    "    print(k, '\\t', min(v), max(v), np.average(v))"
   ]
  },
  {
   "cell_type": "markdown",
   "metadata": {},
   "source": [
    "resort to city"
   ]
  },
  {
   "cell_type": "code",
   "execution_count": 21,
   "metadata": {},
   "outputs": [],
   "source": [
    "x = data_cln.drop([\"is_canceled\"], axis=1)[features]\n",
    "y = data_cln[\"is_canceled\"].to_numpy()\n",
    "\n",
    "x = preprocessor.fit_transform(x)\n",
    "\n",
    "train_x = x[data_cln.hotel == 'Resort Hotel']\n",
    "train_y = y[data_cln.hotel == 'Resort Hotel']\n",
    "\n",
    "test_x = x[data_cln.hotel == 'City Hotel']\n",
    "test_y = y[data_cln.hotel == 'City Hotel']\n",
    "\n",
    "result = []\n",
    "for i in range(10):\n",
    "    model = RandomForestClassifier(n_jobs=-1)\n",
    "    model.fit(train_x, train_y)\n",
    "    pred_y = model.predict(test_x)\n",
    "    result.append({'pred': pred_y, 'test': test_y})"
   ]
  },
  {
   "cell_type": "code",
   "execution_count": 22,
   "metadata": {},
   "outputs": [],
   "source": [
    "total_accuracy = []\n",
    "total_f1 = []\n",
    "total_pre = []\n",
    "total_recall = []\n",
    "total_auc = []\n",
    "for i in range(10):\n",
    "    pred = result[i]['pred']\n",
    "    test = result[i]['test']\n",
    "    fpr, tpr, _ = roc_curve(test, pred)\n",
    "    roc_auc = auc(fpr, tpr)\n",
    "    total_auc.append(roc_auc)\n",
    "    total_accuracy.append(accuracy_score(test, pred))\n",
    "    total_f1.append(f1_score(test, pred))\n",
    "    total_pre.append(precision_score(test, pred))\n",
    "    total_recall.append(recall_score(test, pred))"
   ]
  },
  {
   "cell_type": "code",
   "execution_count": 23,
   "metadata": {},
   "outputs": [],
   "source": [
    "rc_res = {'auc':total_auc, 'acc': total_accuracy, 'f1': total_f1,\n",
    "            'pre': total_pre, 'recall': total_recall}"
   ]
  },
  {
   "cell_type": "code",
   "execution_count": 24,
   "metadata": {},
   "outputs": [
    {
     "name": "stdout",
     "output_type": "stream",
     "text": [
      "auc \t 0.7394720868407784 0.7558487840805987 0.7488178603490223\n",
      "acc \t 0.7774108155804865 0.7886045632169418 0.7840552124038825\n",
      "f1 \t 0.6566862386748067 0.6877327573365113 0.6742512705850767\n",
      "pre \t 0.896369284535482 0.9212306349552695 0.9096533589906816\n",
      "recall \t 0.5101806537369343 0.5578816989909975 0.535852818560812\n"
     ]
    }
   ],
   "source": [
    "# resort to city\n",
    "for k, v in rc_res.items():\n",
    "    print(k, '\\t', min(v), max(v), np.average(v))"
   ]
  },
  {
   "cell_type": "markdown",
   "metadata": {},
   "source": [
    "city to resort"
   ]
  },
  {
   "cell_type": "code",
   "execution_count": 25,
   "metadata": {},
   "outputs": [],
   "source": [
    "x = data_cln.drop([\"is_canceled\"], axis=1)[features]\n",
    "y = data_cln[\"is_canceled\"].to_numpy()\n",
    "\n",
    "x = preprocessor.fit_transform(x)\n",
    "\n",
    "test_x = x[data_cln.hotel == 'Resort Hotel']\n",
    "test_y = y[data_cln.hotel == 'Resort Hotel']\n",
    "\n",
    "train_x = x[data_cln.hotel == 'City Hotel']\n",
    "train_y = y[data_cln.hotel == 'City Hotel']\n",
    "\n",
    "result = []\n",
    "for i in range(10):\n",
    "    model = RandomForestClassifier(n_jobs=-1)\n",
    "    model.fit(train_x, train_y)\n",
    "    pred_y = model.predict(test_x)\n",
    "    result.append({'pred': pred_y, 'test': test_y})"
   ]
  },
  {
   "cell_type": "code",
   "execution_count": 26,
   "metadata": {},
   "outputs": [],
   "source": [
    "total_accuracy = []\n",
    "total_f1 = []\n",
    "total_pre = []\n",
    "total_recall = []\n",
    "total_auc = []\n",
    "for i in range(10):\n",
    "    pred = result[i]['pred']\n",
    "    test = result[i]['test']\n",
    "    fpr, tpr, _ = roc_curve(test, pred)\n",
    "    roc_auc = auc(fpr, tpr)\n",
    "    total_auc.append(roc_auc)\n",
    "    total_accuracy.append(accuracy_score(test, pred))\n",
    "    total_f1.append(f1_score(test, pred))\n",
    "    total_pre.append(precision_score(test, pred))\n",
    "    total_recall.append(recall_score(test, pred))"
   ]
  },
  {
   "cell_type": "code",
   "execution_count": 27,
   "metadata": {},
   "outputs": [],
   "source": [
    "cr_res = {'auc':total_auc, 'acc': total_accuracy, 'f1': total_f1,\n",
    "            'pre': total_pre, 'recall': total_recall}"
   ]
  },
  {
   "cell_type": "code",
   "execution_count": 28,
   "metadata": {},
   "outputs": [
    {
     "name": "stdout",
     "output_type": "stream",
     "text": [
      "auc \t 0.6070682972030972 0.6135840349399742 0.6110079913515566\n",
      "acc \t 0.7768846729905142 0.7804043934098852 0.7788617074388418\n",
      "f1 \t 0.3591912819042157 0.3768893911569431 0.36965207513631027\n",
      "pre \t 0.8720426524491836 0.9009722722362261 0.8860403602752275\n",
      "recall \t 0.22495953965114188 0.23988491278547025 0.23358208955223883\n"
     ]
    }
   ],
   "source": [
    "# city to resort\n",
    "for k, v in cr_res.items():\n",
    "    print(k, '\\t', min(v), max(v), np.average(v))"
   ]
  },
  {
   "cell_type": "code",
   "execution_count": 29,
   "metadata": {},
   "outputs": [],
   "source": [
    "acc_box = np.array([total_res['acc'], resort_res['acc'], city_res['acc'], rc_res['acc'], cr_res['acc']])\n",
    "pre_box = np.array([total_res['pre'], resort_res['pre'], city_res['pre'], rc_res['pre'], cr_res['pre']])\n",
    "rec_box = np.array([total_res['recall'], resort_res['recall'], city_res['recall'], rc_res['recall'], cr_res['recall']])\n",
    "f1_box = np.array([total_res['f1'], resort_res['f1'], city_res['f1'], rc_res['f1'], cr_res['f1']])\n",
    "auc_box = np.array([total_res['auc'], resort_res['auc'], city_res['auc'], rc_res['auc'], cr_res['auc']])"
   ]
  },
  {
   "cell_type": "code",
   "execution_count": 30,
   "metadata": {},
   "outputs": [
    {
     "data": {
      "text/plain": [
       "0.8821767348976535"
      ]
     },
     "execution_count": 30,
     "metadata": {},
     "output_type": "execute_result"
    }
   ],
   "source": [
    "np.max(acc_box)"
   ]
  },
  {
   "cell_type": "code",
   "execution_count": 31,
   "metadata": {},
   "outputs": [
    {
     "data": {
      "text/plain": [
       "0.7768846729905142"
      ]
     },
     "execution_count": 31,
     "metadata": {},
     "output_type": "execute_result"
    }
   ],
   "source": [
    "np.min(acc_box)"
   ]
  },
  {
   "cell_type": "code",
   "execution_count": 32,
   "metadata": {},
   "outputs": [],
   "source": [
    "# define models to test:\n",
    "base_models = [(\"DT_model\", DecisionTreeClassifier(random_state=42)),\n",
    "               (\"RF_model\", RandomForestClassifier(random_state=42,n_jobs=-1)),\n",
    "               (\"LR_model\", LogisticRegression(random_state=42,n_jobs=-1)),\n",
    "               (\"XGB_model\", XGBClassifier(random_state=42, n_jobs=-1))]\n",
    "\n",
    "# split data into 'kfolds' parts for cross validation,\n",
    "# use shuffle to ensure random distribution of data:\n"
   ]
  },
  {
   "cell_type": "code",
   "execution_count": 33,
   "metadata": {},
   "outputs": [
    {
     "data": {
      "image/png": "[encoded data removed]",
      "text/plain": [
       "<Figure size 432x288 with 1 Axes>"
      ]
     },
     "metadata": {
      "needs_background": "light"
     },
     "output_type": "display_data"
    }
   ],
   "source": [
    "\n",
    "c= '#92DFF3'\n",
    "f, axs = plt.subplots()\n",
    "\n",
    "axs.boxplot(np.transpose(acc_box), showfliers=False, widths = 0.2 ,patch_artist=True,\n",
    "            boxprops=dict(facecolor='#DBF3FA', color=c),\n",
    "            capprops=dict(color=c),\n",
    "            whiskerprops=dict(color=c),\n",
    "            flierprops=dict(color=c, markeredgecolor=c),\n",
    "            medianprops=dict(color='blue'),)\n",
    "axs.set_ylim(0.75,0.9)\n",
    "axs.set_xticklabels(['all', 'resort', 'city', 'r-c', 'c-r'],\n",
    "                    rotation=15, fontsize=10)\n",
    "axs.set_ylabel('accuracy')\n",
    "plt.savefig('RandomForestAcc.png')"
   ]
  },
  {
   "cell_type": "code",
   "execution_count": 34,
   "metadata": {},
   "outputs": [
    {
     "data": {
      "text/plain": [
       "0.9212306349552695"
      ]
     },
     "execution_count": 34,
     "metadata": {},
     "output_type": "execute_result"
    }
   ],
   "source": [
    "pre_box.max()"
   ]
  },
  {
   "cell_type": "code",
   "execution_count": 35,
   "metadata": {},
   "outputs": [
    {
     "data": {
      "image/png": "[encoded data removed]",
      "text/plain": [
       "<Figure size 432x288 with 1 Axes>"
      ]
     },
     "metadata": {
      "needs_background": "light"
     },
     "output_type": "display_data"
    }
   ],
   "source": [
    "\n",
    "c= '#92DFF3'\n",
    "f, axs = plt.subplots()\n",
    "\n",
    "axs.boxplot(np.transpose(pre_box), showfliers=False, widths = 0.2 ,patch_artist=True,\n",
    "            boxprops=dict(facecolor='#DBF3FA', color=c),\n",
    "            capprops=dict(color=c),\n",
    "            whiskerprops=dict(color=c),\n",
    "            flierprops=dict(color=c, markeredgecolor=c),\n",
    "            medianprops=dict(color='blue'),)\n",
    "axs.set_ylim(0.79,0.92)\n",
    "axs.set_xticklabels(['all', 'resort', 'city', 'r-c', 'c-r'],\n",
    "                    rotation=15, fontsize=10)\n",
    "axs.set_ylabel('precision')\n",
    "plt.savefig('RandomForestPre.png')"
   ]
  },
  {
   "cell_type": "code",
   "execution_count": 36,
   "metadata": {},
   "outputs": [
    {
     "data": {
      "text/plain": [
       "0.22495953965114188"
      ]
     },
     "execution_count": 36,
     "metadata": {},
     "output_type": "execute_result"
    }
   ],
   "source": [
    "rec_box.min()"
   ]
  },
  {
   "cell_type": "code",
   "execution_count": 37,
   "metadata": {},
   "outputs": [
    {
     "data": {
      "image/png": "[encoded data removed]",
      "text/plain": [
       "<Figure size 432x288 with 1 Axes>"
      ]
     },
     "metadata": {
      "needs_background": "light"
     },
     "output_type": "display_data"
    }
   ],
   "source": [
    "c= '#92DFF3'\n",
    "f, axs = plt.subplots()\n",
    "\n",
    "axs.boxplot(np.transpose(rec_box), showfliers=False, widths = 0.2 ,patch_artist=True,\n",
    "            boxprops=dict(facecolor='#DBF3FA', color=c),\n",
    "            capprops=dict(color=c),\n",
    "            whiskerprops=dict(color=c),\n",
    "            flierprops=dict(color=c, markeredgecolor=c),\n",
    "            medianprops=dict(color='blue'),)\n",
    "axs.set_ylim(0.2,0.85)\n",
    "axs.set_xticklabels(['all', 'resort', 'city', 'r-c', 'c-r'],\n",
    "                    rotation=15, fontsize=10)\n",
    "axs.set_ylabel('recall')\n",
    "plt.savefig('RandomForestRec.png')"
   ]
  },
  {
   "cell_type": "code",
   "execution_count": 38,
   "metadata": {},
   "outputs": [
    {
     "data": {
      "text/plain": [
       "0.3591912819042157"
      ]
     },
     "execution_count": 38,
     "metadata": {},
     "output_type": "execute_result"
    }
   ],
   "source": [
    "f1_box.min()"
   ]
  },
  {
   "cell_type": "code",
   "execution_count": 39,
   "metadata": {},
   "outputs": [
    {
     "data": {
      "image/png": "[encoded data removed]",
      "text/plain": [
       "<Figure size 432x288 with 1 Axes>"
      ]
     },
     "metadata": {
      "needs_background": "light"
     },
     "output_type": "display_data"
    }
   ],
   "source": [
    "\n",
    "c= '#92DFF3'\n",
    "f, axs = plt.subplots()\n",
    "\n",
    "axs.boxplot(np.transpose(f1_box), showfliers=False, widths = 0.2 ,patch_artist=True,\n",
    "            boxprops=dict(facecolor='#DBF3FA', color=c),\n",
    "            capprops=dict(color=c),\n",
    "            whiskerprops=dict(color=c),\n",
    "            flierprops=dict(color=c, markeredgecolor=c),\n",
    "            medianprops=dict(color='blue'),)\n",
    "axs.set_ylim(0.35,0.85)\n",
    "axs.set_xticklabels(['all', 'resort', 'city', 'r-c', 'c-r'],\n",
    "                    rotation=15, fontsize=10)\n",
    "axs.set_ylabel('f1')\n",
    "plt.savefig('RandomForestF1.png')"
   ]
  },
  {
   "cell_type": "code",
   "execution_count": 40,
   "metadata": {},
   "outputs": [
    {
     "data": {
      "text/plain": [
       "0.6070682972030972"
      ]
     },
     "execution_count": 40,
     "metadata": {},
     "output_type": "execute_result"
    }
   ],
   "source": [
    "auc_box.min()"
   ]
  },
  {
   "cell_type": "code",
   "execution_count": 41,
   "metadata": {},
   "outputs": [
    {
     "data": {
      "image/png": "[encoded data removed]",
      "text/plain": [
       "<Figure size 432x288 with 1 Axes>"
      ]
     },
     "metadata": {
      "needs_background": "light"
     },
     "output_type": "display_data"
    }
   ],
   "source": [
    "\n",
    "c= '#92DFF3'\n",
    "f, axs = plt.subplots()\n",
    "\n",
    "axs.boxplot(np.transpose(auc_box), showfliers=False, widths = 0.2 ,patch_artist=True,\n",
    "            boxprops=dict(facecolor='#DBF3FA', color=c),\n",
    "            capprops=dict(color=c),\n",
    "            whiskerprops=dict(color=c),\n",
    "            flierprops=dict(color=c, markeredgecolor=c),\n",
    "            medianprops=dict(color='blue'),)\n",
    "axs.set_ylim(0.60,0.87)\n",
    "axs.set_xticklabels(['all', 'resort', 'city', 'r-c', 'c-r'],\n",
    "                    rotation=15, fontsize=10)\n",
    "axs.set_ylabel('AUC')\n",
    "plt.savefig('RandomForestAUC.png')"
   ]
  },
  {
   "cell_type": "code",
   "execution_count": null,
   "metadata": {},
   "outputs": [],
   "source": []
  }
 ],
 "metadata": {
  "kernelspec": {
   "display_name": "Python 3",
   "language": "python",
   "name": "python3"
  },
  "language_info": {
   "codemirror_mode": {
    "name": "ipython",
    "version": 3
   },
   "file_extension": ".py",
   "mimetype": "text/x-python",
   "name": "python",
   "nbconvert_exporter": "python",
   "pygments_lexer": "ipython3",
   "version": "3.8.5"
  }
 },
 "nbformat": 4,
 "nbformat_minor": 4
}
